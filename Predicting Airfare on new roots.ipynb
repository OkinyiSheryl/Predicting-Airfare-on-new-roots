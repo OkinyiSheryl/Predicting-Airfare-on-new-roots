{
 "cells": [
  {
   "cell_type": "code",
   "execution_count": 6,
   "metadata": {},
   "outputs": [],
   "source": [
    "import matplotlib.pyplot as plt\n",
    "import pandas as pd\n",
    "import numpy as np\n",
    "import seaborn as sns\n",
    "\n",
    "from sklearn.model_selection import train_test_split\n",
    "from sklearn.linear_model import LinearRegression, Lasso, Ridge, LassoCV,BayesianRidge\n",
    "from sklearn.linear_model import LogisticRegression, LogisticRegressionCV\n",
    "import statsmodels.formula.api as sm\n",
    "from sklearn.metrics import mean_squared_error\n",
    "from math import sqrt\n",
    "# install dmba package and import utility functions (see: https://pypi.org/project/dmba/)\n",
    "import sys\n",
    "#!{sys.executable} -m pip install dmba\n",
    "from dmba import regressionSummary, exhaustive_search\n",
    "from dmba import backward_elimination, forward_selection, stepwise_selection\n",
    "from dmba import classificationSummary, gainsChart, liftChart\n",
    "from dmba import adjusted_r2_score, AIC_score, BIC_score"
   ]
  },
  {
   "cell_type": "code",
   "execution_count": 7,
   "metadata": {},
   "outputs": [],
   "source": [
    "import warnings\n",
    "warnings.filterwarnings('ignore')"
   ]
  },
  {
   "cell_type": "code",
   "execution_count": 9,
   "metadata": {},
   "outputs": [
    {
     "data": {
      "text/html": [
       "<div>\n",
       "<style scoped>\n",
       "    .dataframe tbody tr th:only-of-type {\n",
       "        vertical-align: middle;\n",
       "    }\n",
       "\n",
       "    .dataframe tbody tr th {\n",
       "        vertical-align: top;\n",
       "    }\n",
       "\n",
       "    .dataframe thead th {\n",
       "        text-align: right;\n",
       "    }\n",
       "</style>\n",
       "<table border=\"1\" class=\"dataframe\">\n",
       "  <thead>\n",
       "    <tr style=\"text-align: right;\">\n",
       "      <th></th>\n",
       "      <th>S_CODE</th>\n",
       "      <th>S_CITY</th>\n",
       "      <th>E_CODE</th>\n",
       "      <th>E_CITY</th>\n",
       "      <th>COUPON</th>\n",
       "      <th>NEW</th>\n",
       "      <th>VACATION</th>\n",
       "      <th>SW</th>\n",
       "      <th>HI</th>\n",
       "      <th>S_INCOME</th>\n",
       "      <th>E_INCOME</th>\n",
       "      <th>S_POP</th>\n",
       "      <th>E_POP</th>\n",
       "      <th>SLOT</th>\n",
       "      <th>GATE</th>\n",
       "      <th>DISTANCE</th>\n",
       "      <th>PAX</th>\n",
       "      <th>FARE</th>\n",
       "    </tr>\n",
       "  </thead>\n",
       "  <tbody>\n",
       "    <tr>\n",
       "      <th>0</th>\n",
       "      <td>*</td>\n",
       "      <td>Dallas/Fort Worth   TX</td>\n",
       "      <td>*</td>\n",
       "      <td>Amarillo            TX</td>\n",
       "      <td>1.00</td>\n",
       "      <td>3</td>\n",
       "      <td>No</td>\n",
       "      <td>Yes</td>\n",
       "      <td>5291.99</td>\n",
       "      <td>28637.0</td>\n",
       "      <td>21112.0</td>\n",
       "      <td>3036732</td>\n",
       "      <td>205711</td>\n",
       "      <td>Free</td>\n",
       "      <td>Free</td>\n",
       "      <td>312</td>\n",
       "      <td>7864</td>\n",
       "      <td>64.11</td>\n",
       "    </tr>\n",
       "    <tr>\n",
       "      <th>1</th>\n",
       "      <td>*</td>\n",
       "      <td>Atlanta             GA</td>\n",
       "      <td>*</td>\n",
       "      <td>Baltimore/Wash Intl MD</td>\n",
       "      <td>1.06</td>\n",
       "      <td>3</td>\n",
       "      <td>No</td>\n",
       "      <td>No</td>\n",
       "      <td>5419.16</td>\n",
       "      <td>26993.0</td>\n",
       "      <td>29838.0</td>\n",
       "      <td>3532657</td>\n",
       "      <td>7145897</td>\n",
       "      <td>Free</td>\n",
       "      <td>Free</td>\n",
       "      <td>576</td>\n",
       "      <td>8820</td>\n",
       "      <td>174.47</td>\n",
       "    </tr>\n",
       "    <tr>\n",
       "      <th>2</th>\n",
       "      <td>*</td>\n",
       "      <td>Boston              MA</td>\n",
       "      <td>*</td>\n",
       "      <td>Baltimore/Wash Intl MD</td>\n",
       "      <td>1.06</td>\n",
       "      <td>3</td>\n",
       "      <td>No</td>\n",
       "      <td>No</td>\n",
       "      <td>9185.28</td>\n",
       "      <td>30124.0</td>\n",
       "      <td>29838.0</td>\n",
       "      <td>5787293</td>\n",
       "      <td>7145897</td>\n",
       "      <td>Free</td>\n",
       "      <td>Free</td>\n",
       "      <td>364</td>\n",
       "      <td>6452</td>\n",
       "      <td>207.76</td>\n",
       "    </tr>\n",
       "    <tr>\n",
       "      <th>3</th>\n",
       "      <td>ORD</td>\n",
       "      <td>Chicago             IL</td>\n",
       "      <td>*</td>\n",
       "      <td>Baltimore/Wash Intl MD</td>\n",
       "      <td>1.06</td>\n",
       "      <td>3</td>\n",
       "      <td>No</td>\n",
       "      <td>Yes</td>\n",
       "      <td>2657.35</td>\n",
       "      <td>29260.0</td>\n",
       "      <td>29838.0</td>\n",
       "      <td>7830332</td>\n",
       "      <td>7145897</td>\n",
       "      <td>Controlled</td>\n",
       "      <td>Free</td>\n",
       "      <td>612</td>\n",
       "      <td>25144</td>\n",
       "      <td>85.47</td>\n",
       "    </tr>\n",
       "    <tr>\n",
       "      <th>4</th>\n",
       "      <td>MDW</td>\n",
       "      <td>Chicago             IL</td>\n",
       "      <td>*</td>\n",
       "      <td>Baltimore/Wash Intl MD</td>\n",
       "      <td>1.06</td>\n",
       "      <td>3</td>\n",
       "      <td>No</td>\n",
       "      <td>Yes</td>\n",
       "      <td>2657.35</td>\n",
       "      <td>29260.0</td>\n",
       "      <td>29838.0</td>\n",
       "      <td>7830332</td>\n",
       "      <td>7145897</td>\n",
       "      <td>Free</td>\n",
       "      <td>Free</td>\n",
       "      <td>612</td>\n",
       "      <td>25144</td>\n",
       "      <td>85.47</td>\n",
       "    </tr>\n",
       "  </tbody>\n",
       "</table>\n",
       "</div>"
      ],
      "text/plain": [
       "  S_CODE                  S_CITY E_CODE                  E_CITY  COUPON  NEW  \\\n",
       "0      *  Dallas/Fort Worth   TX      *  Amarillo            TX    1.00    3   \n",
       "1      *  Atlanta             GA      *  Baltimore/Wash Intl MD    1.06    3   \n",
       "2      *  Boston              MA      *  Baltimore/Wash Intl MD    1.06    3   \n",
       "3    ORD  Chicago             IL      *  Baltimore/Wash Intl MD    1.06    3   \n",
       "4    MDW  Chicago             IL      *  Baltimore/Wash Intl MD    1.06    3   \n",
       "\n",
       "  VACATION   SW       HI  S_INCOME  E_INCOME    S_POP    E_POP        SLOT  \\\n",
       "0       No  Yes  5291.99   28637.0   21112.0  3036732   205711        Free   \n",
       "1       No   No  5419.16   26993.0   29838.0  3532657  7145897        Free   \n",
       "2       No   No  9185.28   30124.0   29838.0  5787293  7145897        Free   \n",
       "3       No  Yes  2657.35   29260.0   29838.0  7830332  7145897  Controlled   \n",
       "4       No  Yes  2657.35   29260.0   29838.0  7830332  7145897        Free   \n",
       "\n",
       "   GATE  DISTANCE    PAX    FARE  \n",
       "0  Free       312   7864   64.11  \n",
       "1  Free       576   8820  174.47  \n",
       "2  Free       364   6452  207.76  \n",
       "3  Free       612  25144   85.47  \n",
       "4  Free       612  25144   85.47  "
      ]
     },
     "execution_count": 9,
     "metadata": {},
     "output_type": "execute_result"
    }
   ],
   "source": [
    "#read the dataset\n",
    "data = pd.read_csv(\"/home/roy/Downloads/Airfares.csv\")\n",
    "data.head() #display the first 5 rows"
   ]
  },
  {
   "cell_type": "code",
   "execution_count": 10,
   "metadata": {},
   "outputs": [
    {
     "data": {
      "text/plain": [
       "(638, 18)"
      ]
     },
     "execution_count": 10,
     "metadata": {},
     "output_type": "execute_result"
    }
   ],
   "source": [
    "data.shape"
   ]
  },
  {
   "cell_type": "code",
   "execution_count": 12,
   "metadata": {},
   "outputs": [
    {
     "data": {
      "text/plain": [
       "S_CODE      0\n",
       "S_CITY      0\n",
       "E_CODE      0\n",
       "E_CITY      0\n",
       "COUPON      0\n",
       "NEW         0\n",
       "VACATION    0\n",
       "SW          0\n",
       "HI          0\n",
       "S_INCOME    0\n",
       "E_INCOME    0\n",
       "S_POP       0\n",
       "E_POP       0\n",
       "SLOT        0\n",
       "GATE        0\n",
       "DISTANCE    0\n",
       "PAX         0\n",
       "FARE        0\n",
       "dtype: int64"
      ]
     },
     "execution_count": 12,
     "metadata": {},
     "output_type": "execute_result"
    }
   ],
   "source": [
    "data.isna().sum()"
   ]
  },
  {
   "cell_type": "code",
   "execution_count": 13,
   "metadata": {},
   "outputs": [
    {
     "data": {
      "text/plain": [
       "S_CODE       object\n",
       "S_CITY       object\n",
       "E_CODE       object\n",
       "E_CITY       object\n",
       "COUPON      float64\n",
       "NEW           int64\n",
       "VACATION     object\n",
       "SW           object\n",
       "HI          float64\n",
       "S_INCOME    float64\n",
       "E_INCOME    float64\n",
       "S_POP         int64\n",
       "E_POP         int64\n",
       "SLOT         object\n",
       "GATE         object\n",
       "DISTANCE      int64\n",
       "PAX           int64\n",
       "FARE        float64\n",
       "dtype: object"
      ]
     },
     "execution_count": 13,
     "metadata": {},
     "output_type": "execute_result"
    }
   ],
   "source": [
    "data.dtypes"
   ]
  },
  {
   "cell_type": "markdown",
   "metadata": {},
   "source": [
    "Explore the numerical predictors and response (FARE) by creating a correla-\n",
    "tion table and examining some scatterplots between FARE and those predictors.\n",
    "What seems to be the best single predictor of FARE?"
   ]
  },
  {
   "cell_type": "code",
   "execution_count": 14,
   "metadata": {},
   "outputs": [
    {
     "data": {
      "text/html": [
       "<div>\n",
       "<style scoped>\n",
       "    .dataframe tbody tr th:only-of-type {\n",
       "        vertical-align: middle;\n",
       "    }\n",
       "\n",
       "    .dataframe tbody tr th {\n",
       "        vertical-align: top;\n",
       "    }\n",
       "\n",
       "    .dataframe thead th {\n",
       "        text-align: right;\n",
       "    }\n",
       "</style>\n",
       "<table border=\"1\" class=\"dataframe\">\n",
       "  <thead>\n",
       "    <tr style=\"text-align: right;\">\n",
       "      <th></th>\n",
       "      <th>COUPON</th>\n",
       "      <th>NEW</th>\n",
       "      <th>HI</th>\n",
       "      <th>S_INCOME</th>\n",
       "      <th>E_INCOME</th>\n",
       "      <th>S_POP</th>\n",
       "      <th>E_POP</th>\n",
       "      <th>DISTANCE</th>\n",
       "      <th>PAX</th>\n",
       "      <th>FARE</th>\n",
       "    </tr>\n",
       "  </thead>\n",
       "  <tbody>\n",
       "    <tr>\n",
       "      <th>COUPON</th>\n",
       "      <td>1.000000</td>\n",
       "      <td>0.020223</td>\n",
       "      <td>-0.347252</td>\n",
       "      <td>-0.088403</td>\n",
       "      <td>0.046889</td>\n",
       "      <td>-0.107763</td>\n",
       "      <td>0.094970</td>\n",
       "      <td>0.746805</td>\n",
       "      <td>-0.336974</td>\n",
       "      <td>0.496537</td>\n",
       "    </tr>\n",
       "    <tr>\n",
       "      <th>NEW</th>\n",
       "      <td>0.020223</td>\n",
       "      <td>1.000000</td>\n",
       "      <td>0.054147</td>\n",
       "      <td>0.026597</td>\n",
       "      <td>0.113377</td>\n",
       "      <td>-0.016672</td>\n",
       "      <td>0.058568</td>\n",
       "      <td>0.080965</td>\n",
       "      <td>0.010495</td>\n",
       "      <td>0.091730</td>\n",
       "    </tr>\n",
       "    <tr>\n",
       "      <th>HI</th>\n",
       "      <td>-0.347252</td>\n",
       "      <td>0.054147</td>\n",
       "      <td>1.000000</td>\n",
       "      <td>-0.027382</td>\n",
       "      <td>0.082393</td>\n",
       "      <td>-0.172495</td>\n",
       "      <td>-0.062456</td>\n",
       "      <td>-0.312375</td>\n",
       "      <td>-0.168961</td>\n",
       "      <td>0.025195</td>\n",
       "    </tr>\n",
       "    <tr>\n",
       "      <th>S_INCOME</th>\n",
       "      <td>-0.088403</td>\n",
       "      <td>0.026597</td>\n",
       "      <td>-0.027382</td>\n",
       "      <td>1.000000</td>\n",
       "      <td>-0.138864</td>\n",
       "      <td>0.517187</td>\n",
       "      <td>-0.272280</td>\n",
       "      <td>0.028153</td>\n",
       "      <td>0.138197</td>\n",
       "      <td>0.209135</td>\n",
       "    </tr>\n",
       "    <tr>\n",
       "      <th>E_INCOME</th>\n",
       "      <td>0.046889</td>\n",
       "      <td>0.113377</td>\n",
       "      <td>0.082393</td>\n",
       "      <td>-0.138864</td>\n",
       "      <td>1.000000</td>\n",
       "      <td>-0.144059</td>\n",
       "      <td>0.458418</td>\n",
       "      <td>0.176531</td>\n",
       "      <td>0.259961</td>\n",
       "      <td>0.326092</td>\n",
       "    </tr>\n",
       "    <tr>\n",
       "      <th>S_POP</th>\n",
       "      <td>-0.107763</td>\n",
       "      <td>-0.016672</td>\n",
       "      <td>-0.172495</td>\n",
       "      <td>0.517187</td>\n",
       "      <td>-0.144059</td>\n",
       "      <td>1.000000</td>\n",
       "      <td>-0.280143</td>\n",
       "      <td>0.018437</td>\n",
       "      <td>0.284611</td>\n",
       "      <td>0.145097</td>\n",
       "    </tr>\n",
       "    <tr>\n",
       "      <th>E_POP</th>\n",
       "      <td>0.094970</td>\n",
       "      <td>0.058568</td>\n",
       "      <td>-0.062456</td>\n",
       "      <td>-0.272280</td>\n",
       "      <td>0.458418</td>\n",
       "      <td>-0.280143</td>\n",
       "      <td>1.000000</td>\n",
       "      <td>0.115640</td>\n",
       "      <td>0.314698</td>\n",
       "      <td>0.285043</td>\n",
       "    </tr>\n",
       "    <tr>\n",
       "      <th>DISTANCE</th>\n",
       "      <td>0.746805</td>\n",
       "      <td>0.080965</td>\n",
       "      <td>-0.312375</td>\n",
       "      <td>0.028153</td>\n",
       "      <td>0.176531</td>\n",
       "      <td>0.018437</td>\n",
       "      <td>0.115640</td>\n",
       "      <td>1.000000</td>\n",
       "      <td>-0.102482</td>\n",
       "      <td>0.670016</td>\n",
       "    </tr>\n",
       "    <tr>\n",
       "      <th>PAX</th>\n",
       "      <td>-0.336974</td>\n",
       "      <td>0.010495</td>\n",
       "      <td>-0.168961</td>\n",
       "      <td>0.138197</td>\n",
       "      <td>0.259961</td>\n",
       "      <td>0.284611</td>\n",
       "      <td>0.314698</td>\n",
       "      <td>-0.102482</td>\n",
       "      <td>1.000000</td>\n",
       "      <td>-0.090705</td>\n",
       "    </tr>\n",
       "    <tr>\n",
       "      <th>FARE</th>\n",
       "      <td>0.496537</td>\n",
       "      <td>0.091730</td>\n",
       "      <td>0.025195</td>\n",
       "      <td>0.209135</td>\n",
       "      <td>0.326092</td>\n",
       "      <td>0.145097</td>\n",
       "      <td>0.285043</td>\n",
       "      <td>0.670016</td>\n",
       "      <td>-0.090705</td>\n",
       "      <td>1.000000</td>\n",
       "    </tr>\n",
       "  </tbody>\n",
       "</table>\n",
       "</div>"
      ],
      "text/plain": [
       "            COUPON       NEW        HI  S_INCOME  E_INCOME     S_POP  \\\n",
       "COUPON    1.000000  0.020223 -0.347252 -0.088403  0.046889 -0.107763   \n",
       "NEW       0.020223  1.000000  0.054147  0.026597  0.113377 -0.016672   \n",
       "HI       -0.347252  0.054147  1.000000 -0.027382  0.082393 -0.172495   \n",
       "S_INCOME -0.088403  0.026597 -0.027382  1.000000 -0.138864  0.517187   \n",
       "E_INCOME  0.046889  0.113377  0.082393 -0.138864  1.000000 -0.144059   \n",
       "S_POP    -0.107763 -0.016672 -0.172495  0.517187 -0.144059  1.000000   \n",
       "E_POP     0.094970  0.058568 -0.062456 -0.272280  0.458418 -0.280143   \n",
       "DISTANCE  0.746805  0.080965 -0.312375  0.028153  0.176531  0.018437   \n",
       "PAX      -0.336974  0.010495 -0.168961  0.138197  0.259961  0.284611   \n",
       "FARE      0.496537  0.091730  0.025195  0.209135  0.326092  0.145097   \n",
       "\n",
       "             E_POP  DISTANCE       PAX      FARE  \n",
       "COUPON    0.094970  0.746805 -0.336974  0.496537  \n",
       "NEW       0.058568  0.080965  0.010495  0.091730  \n",
       "HI       -0.062456 -0.312375 -0.168961  0.025195  \n",
       "S_INCOME -0.272280  0.028153  0.138197  0.209135  \n",
       "E_INCOME  0.458418  0.176531  0.259961  0.326092  \n",
       "S_POP    -0.280143  0.018437  0.284611  0.145097  \n",
       "E_POP     1.000000  0.115640  0.314698  0.285043  \n",
       "DISTANCE  0.115640  1.000000 -0.102482  0.670016  \n",
       "PAX       0.314698 -0.102482  1.000000 -0.090705  \n",
       "FARE      0.285043  0.670016 -0.090705  1.000000  "
      ]
     },
     "metadata": {},
     "output_type": "display_data"
    },
    {
     "data": {
      "image/png": "[encoded data removed]",
      "text/plain": [
       "<Figure size 432x288 with 2 Axes>"
      ]
     },
     "metadata": {
      "needs_background": "light"
     },
     "output_type": "display_data"
    }
   ],
   "source": [
    "# check for correlation of numerical values\n",
    "corr_mat = data.corr() #corr() by default picks only numerical values\n",
    "display(corr_mat)\n",
    "# plotting correlation heatmap\n",
    "dataplot = sns.heatmap(data.corr(), cmap=\"YlGnBu\", annot=True)\n",
    "# displaying heatmap\n",
    "plt.show()"
   ]
  },
  {
   "cell_type": "markdown",
   "metadata": {},
   "source": [
    "Sort correlation values of Fare to get the best single predictor"
   ]
  },
  {
   "cell_type": "code",
   "execution_count": 15,
   "metadata": {},
   "outputs": [
    {
     "data": {
      "text/plain": [
       "FARE        1.000000\n",
       "DISTANCE    0.670016\n",
       "COUPON      0.496537\n",
       "E_INCOME    0.326092\n",
       "E_POP       0.285043\n",
       "S_INCOME    0.209135\n",
       "S_POP       0.145097\n",
       "NEW         0.091730\n",
       "HI          0.025195\n",
       "PAX        -0.090705\n",
       "Name: FARE, dtype: float64"
      ]
     },
     "execution_count": 15,
     "metadata": {},
     "output_type": "execute_result"
    }
   ],
   "source": [
    "corr_mat['FARE'].sort_values(ascending=False)"
   ]
  },
  {
   "cell_type": "markdown",
   "metadata": {},
   "source": [
    "Scatter plot of fare with some features\n",
    " "
   ]
  },
  {
   "cell_type": "code",
   "execution_count": 16,
   "metadata": {},
   "outputs": [
    {
     "data": {
      "text/plain": [
       "<seaborn.axisgrid.FacetGrid at 0x7f65131f8890>"
      ]
     },
     "execution_count": 16,
     "metadata": {},
     "output_type": "execute_result"
    },
    {
     "data": {
      "image/png": "[encoded data removed]",
      "text/plain": [
       "<Figure size 360x360 with 1 Axes>"
      ]
     },
     "metadata": {
      "needs_background": "light"
     },
     "output_type": "display_data"
    }
   ],
   "source": [
    "sns.relplot(x=\"FARE\", y=\"DISTANCE\", data=data)"
   ]
  },
  {
   "cell_type": "code",
   "execution_count": 17,
   "metadata": {},
   "outputs": [
    {
     "data": {
      "text/plain": [
       "<seaborn.axisgrid.FacetGrid at 0x7f651184d590>"
      ]
     },
     "execution_count": 17,
     "metadata": {},
     "output_type": "execute_result"
    },
    {
     "data": {
      "image/png": "[encoded data removed]",
      "text/plain": [
       "<Figure size 360x360 with 1 Axes>"
      ]
     },
     "metadata": {
      "needs_background": "light"
     },
     "output_type": "display_data"
    }
   ],
   "source": [
    "sns.relplot(x=\"FARE\", y=\"COUPON\", data=data)"
   ]
  },
  {
   "cell_type": "code",
   "execution_count": 18,
   "metadata": {},
   "outputs": [
    {
     "data": {
      "text/plain": [
       "<seaborn.axisgrid.FacetGrid at 0x7f651183e690>"
      ]
     },
     "execution_count": 18,
     "metadata": {},
     "output_type": "execute_result"
    },
    {
     "data": {
      "image/png": "[encoded data removed]",
      "text/plain": [
       "<Figure size 360x360 with 1 Axes>"
      ]
     },
     "metadata": {
      "needs_background": "light"
     },
     "output_type": "display_data"
    }
   ],
   "source": [
    "sns.relplot(x=\"FARE\", y=\"E_INCOME\", data=data)"
   ]
  },
  {
   "cell_type": "markdown",
   "metadata": {},
   "source": [
    "From the above analysis The best single predictor of of fare is Distance."
   ]
  },
  {
   "cell_type": "markdown",
   "metadata": {},
   "source": [
    "Explore the categorical predictors (excluding the first four) by computing the\n",
    "percentage of flights in each category. Create a pivot table with the average fare in\n",
    "each category. Which categorical predictor seems best for predicting FARE?"
   ]
  },
  {
   "cell_type": "code",
   "execution_count": 20,
   "metadata": {},
   "outputs": [
    {
     "name": "stdout",
     "output_type": "stream",
     "text": [
      "<class 'pandas.core.frame.DataFrame'>\n",
      "RangeIndex: 638 entries, 0 to 637\n",
      "Data columns (total 18 columns):\n",
      " #   Column    Non-Null Count  Dtype  \n",
      "---  ------    --------------  -----  \n",
      " 0   S_CODE    638 non-null    object \n",
      " 1   S_CITY    638 non-null    object \n",
      " 2   E_CODE    638 non-null    object \n",
      " 3   E_CITY    638 non-null    object \n",
      " 4   COUPON    638 non-null    float64\n",
      " 5   NEW       638 non-null    int64  \n",
      " 6   VACATION  638 non-null    object \n",
      " 7   SW        638 non-null    object \n",
      " 8   HI        638 non-null    float64\n",
      " 9   S_INCOME  638 non-null    float64\n",
      " 10  E_INCOME  638 non-null    float64\n",
      " 11  S_POP     638 non-null    int64  \n",
      " 12  E_POP     638 non-null    int64  \n",
      " 13  SLOT      638 non-null    object \n",
      " 14  GATE      638 non-null    object \n",
      " 15  DISTANCE  638 non-null    int64  \n",
      " 16  PAX       638 non-null    int64  \n",
      " 17  FARE      638 non-null    float64\n",
      "dtypes: float64(5), int64(5), object(8)\n",
      "memory usage: 89.8+ KB\n"
     ]
    }
   ],
   "source": [
    "#checking the categories\n",
    "data.info()"
   ]
  },
  {
   "cell_type": "markdown",
   "metadata": {},
   "source": [
    "Select the categorical columns"
   ]
  },
  {
   "cell_type": "code",
   "execution_count": 21,
   "metadata": {},
   "outputs": [
    {
     "data": {
      "text/html": [
       "<div>\n",
       "<style scoped>\n",
       "    .dataframe tbody tr th:only-of-type {\n",
       "        vertical-align: middle;\n",
       "    }\n",
       "\n",
       "    .dataframe tbody tr th {\n",
       "        vertical-align: top;\n",
       "    }\n",
       "\n",
       "    .dataframe thead th {\n",
       "        text-align: right;\n",
       "    }\n",
       "</style>\n",
       "<table border=\"1\" class=\"dataframe\">\n",
       "  <thead>\n",
       "    <tr style=\"text-align: right;\">\n",
       "      <th></th>\n",
       "      <th>S_CODE</th>\n",
       "      <th>S_CITY</th>\n",
       "      <th>E_CODE</th>\n",
       "      <th>E_CITY</th>\n",
       "      <th>VACATION</th>\n",
       "      <th>SW</th>\n",
       "      <th>SLOT</th>\n",
       "      <th>GATE</th>\n",
       "    </tr>\n",
       "  </thead>\n",
       "  <tbody>\n",
       "    <tr>\n",
       "      <th>0</th>\n",
       "      <td>*</td>\n",
       "      <td>Dallas/Fort Worth   TX</td>\n",
       "      <td>*</td>\n",
       "      <td>Amarillo            TX</td>\n",
       "      <td>No</td>\n",
       "      <td>Yes</td>\n",
       "      <td>Free</td>\n",
       "      <td>Free</td>\n",
       "    </tr>\n",
       "    <tr>\n",
       "      <th>1</th>\n",
       "      <td>*</td>\n",
       "      <td>Atlanta             GA</td>\n",
       "      <td>*</td>\n",
       "      <td>Baltimore/Wash Intl MD</td>\n",
       "      <td>No</td>\n",
       "      <td>No</td>\n",
       "      <td>Free</td>\n",
       "      <td>Free</td>\n",
       "    </tr>\n",
       "    <tr>\n",
       "      <th>2</th>\n",
       "      <td>*</td>\n",
       "      <td>Boston              MA</td>\n",
       "      <td>*</td>\n",
       "      <td>Baltimore/Wash Intl MD</td>\n",
       "      <td>No</td>\n",
       "      <td>No</td>\n",
       "      <td>Free</td>\n",
       "      <td>Free</td>\n",
       "    </tr>\n",
       "    <tr>\n",
       "      <th>3</th>\n",
       "      <td>ORD</td>\n",
       "      <td>Chicago             IL</td>\n",
       "      <td>*</td>\n",
       "      <td>Baltimore/Wash Intl MD</td>\n",
       "      <td>No</td>\n",
       "      <td>Yes</td>\n",
       "      <td>Controlled</td>\n",
       "      <td>Free</td>\n",
       "    </tr>\n",
       "    <tr>\n",
       "      <th>4</th>\n",
       "      <td>MDW</td>\n",
       "      <td>Chicago             IL</td>\n",
       "      <td>*</td>\n",
       "      <td>Baltimore/Wash Intl MD</td>\n",
       "      <td>No</td>\n",
       "      <td>Yes</td>\n",
       "      <td>Free</td>\n",
       "      <td>Free</td>\n",
       "    </tr>\n",
       "  </tbody>\n",
       "</table>\n",
       "</div>"
      ],
      "text/plain": [
       "  S_CODE                  S_CITY E_CODE                  E_CITY VACATION   SW  \\\n",
       "0      *  Dallas/Fort Worth   TX      *  Amarillo            TX       No  Yes   \n",
       "1      *  Atlanta             GA      *  Baltimore/Wash Intl MD       No   No   \n",
       "2      *  Boston              MA      *  Baltimore/Wash Intl MD       No   No   \n",
       "3    ORD  Chicago             IL      *  Baltimore/Wash Intl MD       No  Yes   \n",
       "4    MDW  Chicago             IL      *  Baltimore/Wash Intl MD       No  Yes   \n",
       "\n",
       "         SLOT  GATE  \n",
       "0        Free  Free  \n",
       "1        Free  Free  \n",
       "2        Free  Free  \n",
       "3  Controlled  Free  \n",
       "4        Free  Free  "
      ]
     },
     "execution_count": 21,
     "metadata": {},
     "output_type": "execute_result"
    }
   ],
   "source": [
    "cat_df = data.select_dtypes(include=['object']).copy()\n",
    "cat_df.head()"
   ]
  },
  {
   "cell_type": "code",
   "execution_count": 22,
   "metadata": {},
   "outputs": [
    {
     "data": {
      "text/html": [
       "<div>\n",
       "<style scoped>\n",
       "    .dataframe tbody tr th:only-of-type {\n",
       "        vertical-align: middle;\n",
       "    }\n",
       "\n",
       "    .dataframe tbody tr th {\n",
       "        vertical-align: top;\n",
       "    }\n",
       "\n",
       "    .dataframe thead th {\n",
       "        text-align: right;\n",
       "    }\n",
       "</style>\n",
       "<table border=\"1\" class=\"dataframe\">\n",
       "  <thead>\n",
       "    <tr style=\"text-align: right;\">\n",
       "      <th></th>\n",
       "      <th>COUPON</th>\n",
       "      <th>NEW</th>\n",
       "      <th>HI</th>\n",
       "      <th>S_INCOME</th>\n",
       "      <th>E_INCOME</th>\n",
       "      <th>S_POP</th>\n",
       "      <th>E_POP</th>\n",
       "      <th>DISTANCE</th>\n",
       "      <th>PAX</th>\n",
       "      <th>FARE</th>\n",
       "    </tr>\n",
       "  </thead>\n",
       "  <tbody>\n",
       "    <tr>\n",
       "      <th>0</th>\n",
       "      <td>1.00</td>\n",
       "      <td>3</td>\n",
       "      <td>5291.99</td>\n",
       "      <td>28637.0</td>\n",
       "      <td>21112.0</td>\n",
       "      <td>3036732</td>\n",
       "      <td>205711</td>\n",
       "      <td>312</td>\n",
       "      <td>7864</td>\n",
       "      <td>64.11</td>\n",
       "    </tr>\n",
       "    <tr>\n",
       "      <th>1</th>\n",
       "      <td>1.06</td>\n",
       "      <td>3</td>\n",
       "      <td>5419.16</td>\n",
       "      <td>26993.0</td>\n",
       "      <td>29838.0</td>\n",
       "      <td>3532657</td>\n",
       "      <td>7145897</td>\n",
       "      <td>576</td>\n",
       "      <td>8820</td>\n",
       "      <td>174.47</td>\n",
       "    </tr>\n",
       "    <tr>\n",
       "      <th>2</th>\n",
       "      <td>1.06</td>\n",
       "      <td>3</td>\n",
       "      <td>9185.28</td>\n",
       "      <td>30124.0</td>\n",
       "      <td>29838.0</td>\n",
       "      <td>5787293</td>\n",
       "      <td>7145897</td>\n",
       "      <td>364</td>\n",
       "      <td>6452</td>\n",
       "      <td>207.76</td>\n",
       "    </tr>\n",
       "    <tr>\n",
       "      <th>3</th>\n",
       "      <td>1.06</td>\n",
       "      <td>3</td>\n",
       "      <td>2657.35</td>\n",
       "      <td>29260.0</td>\n",
       "      <td>29838.0</td>\n",
       "      <td>7830332</td>\n",
       "      <td>7145897</td>\n",
       "      <td>612</td>\n",
       "      <td>25144</td>\n",
       "      <td>85.47</td>\n",
       "    </tr>\n",
       "    <tr>\n",
       "      <th>4</th>\n",
       "      <td>1.06</td>\n",
       "      <td>3</td>\n",
       "      <td>2657.35</td>\n",
       "      <td>29260.0</td>\n",
       "      <td>29838.0</td>\n",
       "      <td>7830332</td>\n",
       "      <td>7145897</td>\n",
       "      <td>612</td>\n",
       "      <td>25144</td>\n",
       "      <td>85.47</td>\n",
       "    </tr>\n",
       "  </tbody>\n",
       "</table>\n",
       "</div>"
      ],
      "text/plain": [
       "   COUPON  NEW       HI  S_INCOME  E_INCOME    S_POP    E_POP  DISTANCE  \\\n",
       "0    1.00    3  5291.99   28637.0   21112.0  3036732   205711       312   \n",
       "1    1.06    3  5419.16   26993.0   29838.0  3532657  7145897       576   \n",
       "2    1.06    3  9185.28   30124.0   29838.0  5787293  7145897       364   \n",
       "3    1.06    3  2657.35   29260.0   29838.0  7830332  7145897       612   \n",
       "4    1.06    3  2657.35   29260.0   29838.0  7830332  7145897       612   \n",
       "\n",
       "     PAX    FARE  \n",
       "0   7864   64.11  \n",
       "1   8820  174.47  \n",
       "2   6452  207.76  \n",
       "3  25144   85.47  \n",
       "4  25144   85.47  "
      ]
     },
     "execution_count": 22,
     "metadata": {},
     "output_type": "execute_result"
    }
   ],
   "source": [
    "#select the numerical columns\n",
    "num_df=data.select_dtypes(include=['number'])\n",
    "num_df.head()"
   ]
  },
  {
   "cell_type": "code",
   "execution_count": 23,
   "metadata": {},
   "outputs": [
    {
     "data": {
      "text/html": [
       "<div>\n",
       "<style scoped>\n",
       "    .dataframe tbody tr th:only-of-type {\n",
       "        vertical-align: middle;\n",
       "    }\n",
       "\n",
       "    .dataframe tbody tr th {\n",
       "        vertical-align: top;\n",
       "    }\n",
       "\n",
       "    .dataframe thead th {\n",
       "        text-align: right;\n",
       "    }\n",
       "</style>\n",
       "<table border=\"1\" class=\"dataframe\">\n",
       "  <thead>\n",
       "    <tr style=\"text-align: right;\">\n",
       "      <th></th>\n",
       "      <th>FARE</th>\n",
       "    </tr>\n",
       "    <tr>\n",
       "      <th>VACATION</th>\n",
       "      <th></th>\n",
       "    </tr>\n",
       "  </thead>\n",
       "  <tbody>\n",
       "    <tr>\n",
       "      <th>No</th>\n",
       "      <td>173.552500</td>\n",
       "    </tr>\n",
       "    <tr>\n",
       "      <th>Yes</th>\n",
       "      <td>125.980882</td>\n",
       "    </tr>\n",
       "  </tbody>\n",
       "</table>\n",
       "</div>"
      ],
      "text/plain": [
       "                FARE\n",
       "VACATION            \n",
       "No        173.552500\n",
       "Yes       125.980882"
      ]
     },
     "metadata": {},
     "output_type": "display_data"
    },
    {
     "data": {
      "text/html": [
       "<div>\n",
       "<style scoped>\n",
       "    .dataframe tbody tr th:only-of-type {\n",
       "        vertical-align: middle;\n",
       "    }\n",
       "\n",
       "    .dataframe tbody tr th {\n",
       "        vertical-align: top;\n",
       "    }\n",
       "\n",
       "    .dataframe thead th {\n",
       "        text-align: right;\n",
       "    }\n",
       "</style>\n",
       "<table border=\"1\" class=\"dataframe\">\n",
       "  <thead>\n",
       "    <tr style=\"text-align: right;\">\n",
       "      <th></th>\n",
       "      <th>FARE</th>\n",
       "    </tr>\n",
       "    <tr>\n",
       "      <th>SW</th>\n",
       "      <th></th>\n",
       "    </tr>\n",
       "  </thead>\n",
       "  <tbody>\n",
       "    <tr>\n",
       "      <th>No</th>\n",
       "      <td>188.182793</td>\n",
       "    </tr>\n",
       "    <tr>\n",
       "      <th>Yes</th>\n",
       "      <td>98.382268</td>\n",
       "    </tr>\n",
       "  </tbody>\n",
       "</table>\n",
       "</div>"
      ],
      "text/plain": [
       "           FARE\n",
       "SW             \n",
       "No   188.182793\n",
       "Yes   98.382268"
      ]
     },
     "metadata": {},
     "output_type": "display_data"
    },
    {
     "data": {
      "text/html": [
       "<div>\n",
       "<style scoped>\n",
       "    .dataframe tbody tr th:only-of-type {\n",
       "        vertical-align: middle;\n",
       "    }\n",
       "\n",
       "    .dataframe tbody tr th {\n",
       "        vertical-align: top;\n",
       "    }\n",
       "\n",
       "    .dataframe thead th {\n",
       "        text-align: right;\n",
       "    }\n",
       "</style>\n",
       "<table border=\"1\" class=\"dataframe\">\n",
       "  <thead>\n",
       "    <tr style=\"text-align: right;\">\n",
       "      <th></th>\n",
       "      <th>FARE</th>\n",
       "    </tr>\n",
       "    <tr>\n",
       "      <th>SLOT</th>\n",
       "      <th></th>\n",
       "    </tr>\n",
       "  </thead>\n",
       "  <tbody>\n",
       "    <tr>\n",
       "      <th>Controlled</th>\n",
       "      <td>186.059396</td>\n",
       "    </tr>\n",
       "    <tr>\n",
       "      <th>Free</th>\n",
       "      <td>150.825680</td>\n",
       "    </tr>\n",
       "  </tbody>\n",
       "</table>\n",
       "</div>"
      ],
      "text/plain": [
       "                  FARE\n",
       "SLOT                  \n",
       "Controlled  186.059396\n",
       "Free        150.825680"
      ]
     },
     "metadata": {},
     "output_type": "display_data"
    },
    {
     "data": {
      "text/html": [
       "<div>\n",
       "<style scoped>\n",
       "    .dataframe tbody tr th:only-of-type {\n",
       "        vertical-align: middle;\n",
       "    }\n",
       "\n",
       "    .dataframe tbody tr th {\n",
       "        vertical-align: top;\n",
       "    }\n",
       "\n",
       "    .dataframe thead th {\n",
       "        text-align: right;\n",
       "    }\n",
       "</style>\n",
       "<table border=\"1\" class=\"dataframe\">\n",
       "  <thead>\n",
       "    <tr style=\"text-align: right;\">\n",
       "      <th></th>\n",
       "      <th>FARE</th>\n",
       "    </tr>\n",
       "    <tr>\n",
       "      <th>GATE</th>\n",
       "      <th></th>\n",
       "    </tr>\n",
       "  </thead>\n",
       "  <tbody>\n",
       "    <tr>\n",
       "      <th>Constrained</th>\n",
       "      <td>193.129032</td>\n",
       "    </tr>\n",
       "    <tr>\n",
       "      <th>Free</th>\n",
       "      <td>153.095953</td>\n",
       "    </tr>\n",
       "  </tbody>\n",
       "</table>\n",
       "</div>"
      ],
      "text/plain": [
       "                   FARE\n",
       "GATE                   \n",
       "Constrained  193.129032\n",
       "Free         153.095953"
      ]
     },
     "metadata": {},
     "output_type": "display_data"
    }
   ],
   "source": [
    "vacation_output = pd.pivot_table(data=data, index=['VACATION'],values='FARE',aggfunc='mean')\n",
    "sw_output = pd.pivot_table(data=data, index=['SW'],values='FARE',aggfunc='mean')\n",
    "slot_output = pd.pivot_table(data=data, index=['SLOT'],values='FARE',aggfunc='mean')\n",
    "gate_output = pd.pivot_table(data=data, index=['GATE'],values='FARE',aggfunc='mean')\n",
    "display(vacation_output)\n",
    "display(sw_output)\n",
    "display(slot_output)\n",
    "display(gate_output)"
   ]
  },
  {
   "cell_type": "code",
   "execution_count": 24,
   "metadata": {},
   "outputs": [
    {
     "data": {
      "text/plain": [
       "No     468\n",
       "Yes    170\n",
       "Name: VACATION, dtype: int64"
      ]
     },
     "metadata": {},
     "output_type": "display_data"
    },
    {
     "data": {
      "text/plain": [
       "No     444\n",
       "Yes    194\n",
       "Name: SW, dtype: int64"
      ]
     },
     "metadata": {},
     "output_type": "display_data"
    },
    {
     "data": {
      "text/plain": [
       "Free          456\n",
       "Controlled    182\n",
       "Name: SLOT, dtype: int64"
      ]
     },
     "metadata": {},
     "output_type": "display_data"
    },
    {
     "data": {
      "text/plain": [
       "Free           514\n",
       "Constrained    124\n",
       "Name: GATE, dtype: int64"
      ]
     },
     "metadata": {},
     "output_type": "display_data"
    }
   ],
   "source": [
    "display(data['VACATION'].value_counts())\n",
    "display(data['SW'].value_counts())\n",
    "display(data['SLOT'].value_counts())\n",
    "display(data['GATE'].value_counts())"
   ]
  },
  {
   "cell_type": "markdown",
   "metadata": {},
   "source": [
    "SW seems to be a good predictor of FARE since there is is a big difference in its mean."
   ]
  },
  {
   "cell_type": "markdown",
   "metadata": {},
   "source": [
    "Find a model for predicting the average fare on a new route:"
   ]
  },
  {
   "cell_type": "code",
   "execution_count": 25,
   "metadata": {},
   "outputs": [
    {
     "data": {
      "text/html": [
       "<div>\n",
       "<style scoped>\n",
       "    .dataframe tbody tr th:only-of-type {\n",
       "        vertical-align: middle;\n",
       "    }\n",
       "\n",
       "    .dataframe tbody tr th {\n",
       "        vertical-align: top;\n",
       "    }\n",
       "\n",
       "    .dataframe thead th {\n",
       "        text-align: right;\n",
       "    }\n",
       "</style>\n",
       "<table border=\"1\" class=\"dataframe\">\n",
       "  <thead>\n",
       "    <tr style=\"text-align: right;\">\n",
       "      <th></th>\n",
       "      <th>VACATION_Yes</th>\n",
       "      <th>SW_Yes</th>\n",
       "      <th>SLOT_Free</th>\n",
       "      <th>GATE_Free</th>\n",
       "    </tr>\n",
       "  </thead>\n",
       "  <tbody>\n",
       "    <tr>\n",
       "      <th>0</th>\n",
       "      <td>0</td>\n",
       "      <td>1</td>\n",
       "      <td>1</td>\n",
       "      <td>1</td>\n",
       "    </tr>\n",
       "    <tr>\n",
       "      <th>1</th>\n",
       "      <td>0</td>\n",
       "      <td>0</td>\n",
       "      <td>1</td>\n",
       "      <td>1</td>\n",
       "    </tr>\n",
       "    <tr>\n",
       "      <th>2</th>\n",
       "      <td>0</td>\n",
       "      <td>0</td>\n",
       "      <td>1</td>\n",
       "      <td>1</td>\n",
       "    </tr>\n",
       "    <tr>\n",
       "      <th>3</th>\n",
       "      <td>0</td>\n",
       "      <td>1</td>\n",
       "      <td>0</td>\n",
       "      <td>1</td>\n",
       "    </tr>\n",
       "    <tr>\n",
       "      <th>4</th>\n",
       "      <td>0</td>\n",
       "      <td>1</td>\n",
       "      <td>1</td>\n",
       "      <td>1</td>\n",
       "    </tr>\n",
       "  </tbody>\n",
       "</table>\n",
       "</div>"
      ],
      "text/plain": [
       "   VACATION_Yes  SW_Yes  SLOT_Free  GATE_Free\n",
       "0             0       1          1          1\n",
       "1             0       0          1          1\n",
       "2             0       0          1          1\n",
       "3             0       1          0          1\n",
       "4             0       1          1          1"
      ]
     },
     "execution_count": 25,
     "metadata": {},
     "output_type": "execute_result"
    }
   ],
   "source": [
    "cat_dummies = pd.get_dummies(data[['VACATION', 'SW', 'SLOT', 'GATE']],drop_first=True)#creates (n-1) dummies\n",
    "cat_dummies.head()"
   ]
  },
  {
   "cell_type": "markdown",
   "metadata": {},
   "source": [
    "Concat dummies dataframeand Categorical dataframe"
   ]
  },
  {
   "cell_type": "code",
   "execution_count": 26,
   "metadata": {},
   "outputs": [
    {
     "data": {
      "text/html": [
       "<div>\n",
       "<style scoped>\n",
       "    .dataframe tbody tr th:only-of-type {\n",
       "        vertical-align: middle;\n",
       "    }\n",
       "\n",
       "    .dataframe tbody tr th {\n",
       "        vertical-align: top;\n",
       "    }\n",
       "\n",
       "    .dataframe thead th {\n",
       "        text-align: right;\n",
       "    }\n",
       "</style>\n",
       "<table border=\"1\" class=\"dataframe\">\n",
       "  <thead>\n",
       "    <tr style=\"text-align: right;\">\n",
       "      <th></th>\n",
       "      <th>COUPON</th>\n",
       "      <th>NEW</th>\n",
       "      <th>HI</th>\n",
       "      <th>S_INCOME</th>\n",
       "      <th>E_INCOME</th>\n",
       "      <th>S_POP</th>\n",
       "      <th>E_POP</th>\n",
       "      <th>DISTANCE</th>\n",
       "      <th>PAX</th>\n",
       "      <th>FARE</th>\n",
       "      <th>VACATION_Yes</th>\n",
       "      <th>SW_Yes</th>\n",
       "      <th>SLOT_Free</th>\n",
       "      <th>GATE_Free</th>\n",
       "    </tr>\n",
       "  </thead>\n",
       "  <tbody>\n",
       "    <tr>\n",
       "      <th>0</th>\n",
       "      <td>1.00</td>\n",
       "      <td>3</td>\n",
       "      <td>5291.99</td>\n",
       "      <td>28637.0</td>\n",
       "      <td>21112.0</td>\n",
       "      <td>3036732</td>\n",
       "      <td>205711</td>\n",
       "      <td>312</td>\n",
       "      <td>7864</td>\n",
       "      <td>64.11</td>\n",
       "      <td>0</td>\n",
       "      <td>1</td>\n",
       "      <td>1</td>\n",
       "      <td>1</td>\n",
       "    </tr>\n",
       "    <tr>\n",
       "      <th>1</th>\n",
       "      <td>1.06</td>\n",
       "      <td>3</td>\n",
       "      <td>5419.16</td>\n",
       "      <td>26993.0</td>\n",
       "      <td>29838.0</td>\n",
       "      <td>3532657</td>\n",
       "      <td>7145897</td>\n",
       "      <td>576</td>\n",
       "      <td>8820</td>\n",
       "      <td>174.47</td>\n",
       "      <td>0</td>\n",
       "      <td>0</td>\n",
       "      <td>1</td>\n",
       "      <td>1</td>\n",
       "    </tr>\n",
       "    <tr>\n",
       "      <th>2</th>\n",
       "      <td>1.06</td>\n",
       "      <td>3</td>\n",
       "      <td>9185.28</td>\n",
       "      <td>30124.0</td>\n",
       "      <td>29838.0</td>\n",
       "      <td>5787293</td>\n",
       "      <td>7145897</td>\n",
       "      <td>364</td>\n",
       "      <td>6452</td>\n",
       "      <td>207.76</td>\n",
       "      <td>0</td>\n",
       "      <td>0</td>\n",
       "      <td>1</td>\n",
       "      <td>1</td>\n",
       "    </tr>\n",
       "    <tr>\n",
       "      <th>3</th>\n",
       "      <td>1.06</td>\n",
       "      <td>3</td>\n",
       "      <td>2657.35</td>\n",
       "      <td>29260.0</td>\n",
       "      <td>29838.0</td>\n",
       "      <td>7830332</td>\n",
       "      <td>7145897</td>\n",
       "      <td>612</td>\n",
       "      <td>25144</td>\n",
       "      <td>85.47</td>\n",
       "      <td>0</td>\n",
       "      <td>1</td>\n",
       "      <td>0</td>\n",
       "      <td>1</td>\n",
       "    </tr>\n",
       "    <tr>\n",
       "      <th>4</th>\n",
       "      <td>1.06</td>\n",
       "      <td>3</td>\n",
       "      <td>2657.35</td>\n",
       "      <td>29260.0</td>\n",
       "      <td>29838.0</td>\n",
       "      <td>7830332</td>\n",
       "      <td>7145897</td>\n",
       "      <td>612</td>\n",
       "      <td>25144</td>\n",
       "      <td>85.47</td>\n",
       "      <td>0</td>\n",
       "      <td>1</td>\n",
       "      <td>1</td>\n",
       "      <td>1</td>\n",
       "    </tr>\n",
       "  </tbody>\n",
       "</table>\n",
       "</div>"
      ],
      "text/plain": [
       "   COUPON  NEW       HI  S_INCOME  E_INCOME    S_POP    E_POP  DISTANCE  \\\n",
       "0    1.00    3  5291.99   28637.0   21112.0  3036732   205711       312   \n",
       "1    1.06    3  5419.16   26993.0   29838.0  3532657  7145897       576   \n",
       "2    1.06    3  9185.28   30124.0   29838.0  5787293  7145897       364   \n",
       "3    1.06    3  2657.35   29260.0   29838.0  7830332  7145897       612   \n",
       "4    1.06    3  2657.35   29260.0   29838.0  7830332  7145897       612   \n",
       "\n",
       "     PAX    FARE  VACATION_Yes  SW_Yes  SLOT_Free  GATE_Free  \n",
       "0   7864   64.11             0       1          1          1  \n",
       "1   8820  174.47             0       0          1          1  \n",
       "2   6452  207.76             0       0          1          1  \n",
       "3  25144   85.47             0       1          0          1  \n",
       "4  25144   85.47             0       1          1          1  "
      ]
     },
     "execution_count": 26,
     "metadata": {},
     "output_type": "execute_result"
    }
   ],
   "source": [
    "##concat two dataframes\n",
    "frames = [num_df, cat_dummies]\n",
    "full_df = pd.concat(frames, axis=1)\n",
    "full_df.head()"
   ]
  },
  {
   "cell_type": "markdown",
   "metadata": {},
   "source": [
    "Getting X features and Y variables "
   ]
  },
  {
   "cell_type": "code",
   "execution_count": 28,
   "metadata": {},
   "outputs": [
    {
     "data": {
      "text/html": [
       "<div>\n",
       "<style scoped>\n",
       "    .dataframe tbody tr th:only-of-type {\n",
       "        vertical-align: middle;\n",
       "    }\n",
       "\n",
       "    .dataframe tbody tr th {\n",
       "        vertical-align: top;\n",
       "    }\n",
       "\n",
       "    .dataframe thead th {\n",
       "        text-align: right;\n",
       "    }\n",
       "</style>\n",
       "<table border=\"1\" class=\"dataframe\">\n",
       "  <thead>\n",
       "    <tr style=\"text-align: right;\">\n",
       "      <th></th>\n",
       "      <th>COUPON</th>\n",
       "      <th>NEW</th>\n",
       "      <th>HI</th>\n",
       "      <th>S_INCOME</th>\n",
       "      <th>E_INCOME</th>\n",
       "      <th>S_POP</th>\n",
       "      <th>E_POP</th>\n",
       "      <th>DISTANCE</th>\n",
       "      <th>PAX</th>\n",
       "      <th>VACATION_Yes</th>\n",
       "      <th>SW_Yes</th>\n",
       "      <th>SLOT_Free</th>\n",
       "      <th>GATE_Free</th>\n",
       "    </tr>\n",
       "  </thead>\n",
       "  <tbody>\n",
       "    <tr>\n",
       "      <th>0</th>\n",
       "      <td>1.00</td>\n",
       "      <td>3</td>\n",
       "      <td>5291.99</td>\n",
       "      <td>28637.0</td>\n",
       "      <td>21112.0</td>\n",
       "      <td>3036732</td>\n",
       "      <td>205711</td>\n",
       "      <td>312</td>\n",
       "      <td>7864</td>\n",
       "      <td>0</td>\n",
       "      <td>1</td>\n",
       "      <td>1</td>\n",
       "      <td>1</td>\n",
       "    </tr>\n",
       "    <tr>\n",
       "      <th>1</th>\n",
       "      <td>1.06</td>\n",
       "      <td>3</td>\n",
       "      <td>5419.16</td>\n",
       "      <td>26993.0</td>\n",
       "      <td>29838.0</td>\n",
       "      <td>3532657</td>\n",
       "      <td>7145897</td>\n",
       "      <td>576</td>\n",
       "      <td>8820</td>\n",
       "      <td>0</td>\n",
       "      <td>0</td>\n",
       "      <td>1</td>\n",
       "      <td>1</td>\n",
       "    </tr>\n",
       "    <tr>\n",
       "      <th>2</th>\n",
       "      <td>1.06</td>\n",
       "      <td>3</td>\n",
       "      <td>9185.28</td>\n",
       "      <td>30124.0</td>\n",
       "      <td>29838.0</td>\n",
       "      <td>5787293</td>\n",
       "      <td>7145897</td>\n",
       "      <td>364</td>\n",
       "      <td>6452</td>\n",
       "      <td>0</td>\n",
       "      <td>0</td>\n",
       "      <td>1</td>\n",
       "      <td>1</td>\n",
       "    </tr>\n",
       "    <tr>\n",
       "      <th>3</th>\n",
       "      <td>1.06</td>\n",
       "      <td>3</td>\n",
       "      <td>2657.35</td>\n",
       "      <td>29260.0</td>\n",
       "      <td>29838.0</td>\n",
       "      <td>7830332</td>\n",
       "      <td>7145897</td>\n",
       "      <td>612</td>\n",
       "      <td>25144</td>\n",
       "      <td>0</td>\n",
       "      <td>1</td>\n",
       "      <td>0</td>\n",
       "      <td>1</td>\n",
       "    </tr>\n",
       "    <tr>\n",
       "      <th>4</th>\n",
       "      <td>1.06</td>\n",
       "      <td>3</td>\n",
       "      <td>2657.35</td>\n",
       "      <td>29260.0</td>\n",
       "      <td>29838.0</td>\n",
       "      <td>7830332</td>\n",
       "      <td>7145897</td>\n",
       "      <td>612</td>\n",
       "      <td>25144</td>\n",
       "      <td>0</td>\n",
       "      <td>1</td>\n",
       "      <td>1</td>\n",
       "      <td>1</td>\n",
       "    </tr>\n",
       "  </tbody>\n",
       "</table>\n",
       "</div>"
      ],
      "text/plain": [
       "   COUPON  NEW       HI  S_INCOME  E_INCOME    S_POP    E_POP  DISTANCE  \\\n",
       "0    1.00    3  5291.99   28637.0   21112.0  3036732   205711       312   \n",
       "1    1.06    3  5419.16   26993.0   29838.0  3532657  7145897       576   \n",
       "2    1.06    3  9185.28   30124.0   29838.0  5787293  7145897       364   \n",
       "3    1.06    3  2657.35   29260.0   29838.0  7830332  7145897       612   \n",
       "4    1.06    3  2657.35   29260.0   29838.0  7830332  7145897       612   \n",
       "\n",
       "     PAX  VACATION_Yes  SW_Yes  SLOT_Free  GATE_Free  \n",
       "0   7864             0       1          1          1  \n",
       "1   8820             0       0          1          1  \n",
       "2   6452             0       0          1          1  \n",
       "3  25144             0       1          0          1  \n",
       "4  25144             0       1          1          1  "
      ]
     },
     "metadata": {},
     "output_type": "display_data"
    },
    {
     "data": {
      "text/plain": [
       "0     64.11\n",
       "1    174.47\n",
       "2    207.76\n",
       "3     85.47\n",
       "4     85.47\n",
       "Name: FARE, dtype: float64"
      ]
     },
     "metadata": {},
     "output_type": "display_data"
    }
   ],
   "source": [
    "X = full_df.drop('FARE', axis=1)\n",
    "y = full_df['FARE']\n",
    "display(X.head())\n",
    "display(y.head())"
   ]
  },
  {
   "cell_type": "markdown",
   "metadata": {},
   "source": [
    "split the data into training and validation dataset"
   ]
  },
  {
   "cell_type": "code",
   "execution_count": 30,
   "metadata": {},
   "outputs": [],
   "source": [
    "X_train, X_test, y_train, y_test = train_test_split(X, y, test_size=0.4,random_state=42)"
   ]
  },
  {
   "cell_type": "code",
   "execution_count": 31,
   "metadata": {},
   "outputs": [
    {
     "data": {
      "text/plain": [
       "(382, 13)"
      ]
     },
     "execution_count": 31,
     "metadata": {},
     "output_type": "execute_result"
    }
   ],
   "source": [
    "X_train.shape"
   ]
  },
  {
   "cell_type": "code",
   "execution_count": 32,
   "metadata": {},
   "outputs": [
    {
     "data": {
      "text/plain": [
       "Index(['COUPON', 'NEW', 'HI', 'S_INCOME', 'E_INCOME', 'S_POP', 'E_POP',\n",
       "       'DISTANCE', 'PAX', 'VACATION_Yes', 'SW_Yes', 'SLOT_Free', 'GATE_Free'],\n",
       "      dtype='object')"
      ]
     },
     "execution_count": 32,
     "metadata": {},
     "output_type": "execute_result"
    }
   ],
   "source": [
    "X_train.columns"
   ]
  },
  {
   "cell_type": "markdown",
   "metadata": {},
   "source": [
    "Stepwise Regression"
   ]
  },
  {
   "cell_type": "code",
   "execution_count": 38,
   "metadata": {},
   "outputs": [
    {
     "name": "stdout",
     "output_type": "stream",
     "text": [
      "Variables: COUPON, NEW, HI, S_INCOME, E_INCOME, S_POP, E_POP, DISTANCE, PAX, VACATION_Yes, SW_Yes, SLOT_Free, GATE_Free\n",
      "Start: score=4398.15, constant\n",
      "Step: score=4200.73, add DISTANCE\n",
      "Step: score=4077.44, add SW_Yes\n",
      "Step: score=3955.31, add VACATION_Yes\n",
      "Step: score=3926.23, add HI\n",
      "Step: score=3907.43, add SLOT_Free\n",
      "Step: score=3874.69, add GATE_Free\n",
      "Step: score=3871.05, add PAX\n",
      "Step: score=3863.40, add E_INCOME\n",
      "Step: score=3855.76, add S_POP\n",
      "Step: score=3841.60, add E_POP\n",
      "Step: score=3840.20, add NEW\n",
      "Step: score=3840.20, add None\n",
      "['DISTANCE', 'SW_Yes', 'VACATION_Yes', 'HI', 'SLOT_Free', 'GATE_Free', 'PAX', 'E_INCOME', 'S_POP', 'E_POP', 'NEW']\n"
     ]
    }
   ],
   "source": [
    "# Forward Selection\n",
    "# The initial model is the constant model - this requires special handling\n",
    "# in train_model and score_model\n",
    "def train_model(variables):\n",
    "    if len(variables) == 0:\n",
    "        return None\n",
    "    model = LinearRegression()\n",
    "    model.fit(X_train[variables], y_train)\n",
    "    return model\n",
    "def score_model(model, variables):\n",
    "    if len(variables) == 0:\n",
    "        return AIC_score(y_train, [y_train.mean()] * len(y_train), model, df=1)\n",
    "    return AIC_score(y_train, model.predict(X_train[variables]), model)\n",
    "best_model, best_variables = forward_selection(X_train.columns, train_model,score_model, verbose=True)\n",
    "print(best_variables)"
   ]
  },
  {
   "cell_type": "code",
   "execution_count": 39,
   "metadata": {},
   "outputs": [],
   "source": [
    "step_pred = best_model.predict(X_test[['DISTANCE', 'SW_Yes', 'VACATION_Yes','HI', 'SLOT_Free', 'GATE_Free', 'PAX',\n",
    "                                       'E_INCOME', 'S_POP', 'E_POP', 'NEW']])"
   ]
  },
  {
   "cell_type": "markdown",
   "metadata": {},
   "source": [
    "Exhaustive Search"
   ]
  },
  {
   "cell_type": "code",
   "execution_count": 43,
   "metadata": {},
   "outputs": [
    {
     "name": "stdout",
     "output_type": "stream",
     "text": [
      "     n     r2adj          AIC  COUPON  DISTANCE  E_INCOME  E_POP  GATE_Free     HI    NEW    PAX  \\\n",
      "0    1  0.405135  4200.729600   False      True     False  False      False  False  False  False   \n",
      "1    2  0.570346  4077.437454   False      True     False  False      False  False  False  False   \n",
      "2    3  0.688723  3955.311141   False      True     False  False      False  False  False  False   \n",
      "3    4  0.712287  3926.228512   False      True     False  False      False   True  False  False   \n",
      "4    5  0.726808  3907.429694   False      True     False  False      False   True  False  False   \n",
      "5    6  0.749890  3874.691826   False      True     False  False       True   True  False  False   \n",
      "6    7  0.752901  3871.045067   False      True     False  False       True   True  False   True   \n",
      "7    8  0.758415  3863.401736   False      True      True  False       True   True  False   True   \n",
      "8    9  0.767568  3849.622765   False      True     False   True       True   True  False   True   \n",
      "9   10  0.772978  3841.597930   False      True      True   True       True   True  False   True   \n",
      "10  11  0.774378  3840.203969   False      True      True   True       True   True   True   True   \n",
      "11  12  0.774725  3840.581299   False      True      True   True       True   True   True   True   \n",
      "12  13  0.774114  3842.579222    True      True      True   True       True   True   True   True   \n",
      "\n",
      "    SLOT_Free  SW_Yes  S_INCOME  S_POP  VACATION_Yes  \n",
      "0       False   False     False  False         False  \n",
      "1       False    True     False  False         False  \n",
      "2       False    True     False  False          True  \n",
      "3       False    True     False  False          True  \n",
      "4        True    True     False  False          True  \n",
      "5        True    True     False  False          True  \n",
      "6        True    True     False  False          True  \n",
      "7        True    True     False  False          True  \n",
      "8        True    True     False   True          True  \n",
      "9        True    True     False   True          True  \n",
      "10       True    True     False   True          True  \n",
      "11       True    True      True   True          True  \n",
      "12       True    True      True   True          True  \n"
     ]
    }
   ],
   "source": [
    "# Run an exhaustive search.\n",
    "def train_model(variables):\n",
    "    model = LinearRegression()\n",
    "    model.fit(X_train[variables], y_train)\n",
    "    return model\n",
    "\n",
    "def score_model(model, variables):\n",
    "    pred_y = model.predict(X_train[variables])\n",
    "    # we negate as score is optimized to be as low as possible\n",
    "    return -adjusted_r2_score(y_train, pred_y, model)\n",
    "\n",
    "allVariables = X_train.columns\n",
    "results = exhaustive_search(allVariables, train_model, score_model)\n",
    "data = []\n",
    "\n",
    "for result in results:\n",
    "    model = result['model']\n",
    "    variables = result['variables']\n",
    "    AIC = AIC_score(y_train, model.predict(X_train[variables]), model)\n",
    "    \n",
    "    d = {'n': result['n'], 'r2adj': -result['score'], 'AIC': AIC}\n",
    "    d.update({var: var in result['variables'] for var in allVariables})\n",
    "    data.append(d)\n",
    "    \n",
    "pd.set_option('display.width', 100)\n",
    "print(pd.DataFrame(data, columns=('n', 'r2adj', 'AIC')+tuple(sorted(allVariables))))\n",
    "pd.reset_option('display.width')"
   ]
  },
  {
   "cell_type": "code",
   "execution_count": 44,
   "metadata": {},
   "outputs": [],
   "source": [
    "exhaustive_pred = model.predict(X_test)"
   ]
  },
  {
   "cell_type": "markdown",
   "metadata": {},
   "source": [
    "Comparing the two models"
   ]
  },
  {
   "cell_type": "code",
   "execution_count": 45,
   "metadata": {},
   "outputs": [
    {
     "name": "stdout",
     "output_type": "stream",
     "text": [
      "Stepwise model validation score: 35.16\n",
      "Exhaustive model validation score: 34.97\n"
     ]
    }
   ],
   "source": [
    "#calculate RMSE\n",
    "print(f\"Stepwise model validation score: {sqrt(mean_squared_error(y_test,step_pred)):.2f}\")\n",
    "print(f\"Exhaustive model validation score: {sqrt(mean_squared_error(y_test,exhaustive_pred)):.2f}\")"
   ]
  },
  {
   "cell_type": "markdown",
   "metadata": {},
   "source": [
    "Exhaustive Search model performs better than Stepwise model since Exhaustive model\n",
    "has a smaller RMSE of 34.97 while Stepwise has RMSE of 35.16"
   ]
  },
  {
   "cell_type": "code",
   "execution_count": 46,
   "metadata": {},
   "outputs": [
    {
     "data": {
      "text/html": [
       "<div>\n",
       "<style scoped>\n",
       "    .dataframe tbody tr th:only-of-type {\n",
       "        vertical-align: middle;\n",
       "    }\n",
       "\n",
       "    .dataframe tbody tr th {\n",
       "        vertical-align: top;\n",
       "    }\n",
       "\n",
       "    .dataframe thead th {\n",
       "        text-align: right;\n",
       "    }\n",
       "</style>\n",
       "<table border=\"1\" class=\"dataframe\">\n",
       "  <thead>\n",
       "    <tr style=\"text-align: right;\">\n",
       "      <th></th>\n",
       "      <th>COUPON</th>\n",
       "      <th>NEW</th>\n",
       "      <th>HI</th>\n",
       "      <th>S_INCOME</th>\n",
       "      <th>E_INCOME</th>\n",
       "      <th>S_POP</th>\n",
       "      <th>E_POP</th>\n",
       "      <th>DISTANCE</th>\n",
       "      <th>PAX</th>\n",
       "      <th>VACATION_Yes</th>\n",
       "      <th>SW_Yes</th>\n",
       "      <th>SLOT_Free</th>\n",
       "      <th>GATE_Free</th>\n",
       "    </tr>\n",
       "  </thead>\n",
       "  <tbody>\n",
       "    <tr>\n",
       "      <th>260</th>\n",
       "      <td>1.29</td>\n",
       "      <td>3</td>\n",
       "      <td>3152.00</td>\n",
       "      <td>21081.0</td>\n",
       "      <td>32991.0</td>\n",
       "      <td>895123</td>\n",
       "      <td>8621121</td>\n",
       "      <td>613</td>\n",
       "      <td>3806</td>\n",
       "      <td>0</td>\n",
       "      <td>0</td>\n",
       "      <td>0</td>\n",
       "      <td>1</td>\n",
       "    </tr>\n",
       "    <tr>\n",
       "      <th>228</th>\n",
       "      <td>1.00</td>\n",
       "      <td>3</td>\n",
       "      <td>2850.33</td>\n",
       "      <td>30124.0</td>\n",
       "      <td>32991.0</td>\n",
       "      <td>5787293</td>\n",
       "      <td>8621121</td>\n",
       "      <td>183</td>\n",
       "      <td>66820</td>\n",
       "      <td>0</td>\n",
       "      <td>0</td>\n",
       "      <td>1</td>\n",
       "      <td>0</td>\n",
       "    </tr>\n",
       "    <tr>\n",
       "      <th>31</th>\n",
       "      <td>1.34</td>\n",
       "      <td>0</td>\n",
       "      <td>2587.89</td>\n",
       "      <td>32991.0</td>\n",
       "      <td>18851.0</td>\n",
       "      <td>8621121</td>\n",
       "      <td>254153</td>\n",
       "      <td>637</td>\n",
       "      <td>6003</td>\n",
       "      <td>0</td>\n",
       "      <td>0</td>\n",
       "      <td>0</td>\n",
       "      <td>1</td>\n",
       "    </tr>\n",
       "    <tr>\n",
       "      <th>583</th>\n",
       "      <td>1.07</td>\n",
       "      <td>3</td>\n",
       "      <td>3289.86</td>\n",
       "      <td>24502.0</td>\n",
       "      <td>31981.0</td>\n",
       "      <td>125722</td>\n",
       "      <td>4549784</td>\n",
       "      <td>310</td>\n",
       "      <td>6583</td>\n",
       "      <td>0</td>\n",
       "      <td>0</td>\n",
       "      <td>1</td>\n",
       "      <td>1</td>\n",
       "    </tr>\n",
       "    <tr>\n",
       "      <th>600</th>\n",
       "      <td>1.33</td>\n",
       "      <td>3</td>\n",
       "      <td>3680.60</td>\n",
       "      <td>24706.0</td>\n",
       "      <td>31981.0</td>\n",
       "      <td>9056076</td>\n",
       "      <td>4549784</td>\n",
       "      <td>2300</td>\n",
       "      <td>20007</td>\n",
       "      <td>0</td>\n",
       "      <td>0</td>\n",
       "      <td>0</td>\n",
       "      <td>1</td>\n",
       "    </tr>\n",
       "  </tbody>\n",
       "</table>\n",
       "</div>"
      ],
      "text/plain": [
       "     COUPON  NEW       HI  S_INCOME  E_INCOME    S_POP    E_POP  DISTANCE  \\\n",
       "260    1.29    3  3152.00   21081.0   32991.0   895123  8621121       613   \n",
       "228    1.00    3  2850.33   30124.0   32991.0  5787293  8621121       183   \n",
       "31     1.34    0  2587.89   32991.0   18851.0  8621121   254153       637   \n",
       "583    1.07    3  3289.86   24502.0   31981.0   125722  4549784       310   \n",
       "600    1.33    3  3680.60   24706.0   31981.0  9056076  4549784      2300   \n",
       "\n",
       "       PAX  VACATION_Yes  SW_Yes  SLOT_Free  GATE_Free  \n",
       "260   3806             0       0          0          1  \n",
       "228  66820             0       0          1          0  \n",
       "31    6003             0       0          0          1  \n",
       "583   6583             0       0          1          1  \n",
       "600  20007             0       0          0          1  "
      ]
     },
     "execution_count": 46,
     "metadata": {},
     "output_type": "execute_result"
    }
   ],
   "source": [
    "X_test.head()"
   ]
  },
  {
   "cell_type": "markdown",
   "metadata": {},
   "source": [
    "arange values to predict as it is on X_train dataframe"
   ]
  },
  {
   "cell_type": "code",
   "execution_count": 48,
   "metadata": {},
   "outputs": [],
   "source": [
    "to_predict = np.array([1.202, 3, 4442.141, 28760, 27664, 4_557_004, 3_195_503,\n",
    "            1976, 12_782, 0, 0, 1, 1]).reshape(1,-1)"
   ]
  },
  {
   "cell_type": "code",
   "execution_count": 49,
   "metadata": {},
   "outputs": [
    {
     "data": {
      "text/plain": [
       "array([245.65056087])"
      ]
     },
     "execution_count": 49,
     "metadata": {},
     "output_type": "execute_result"
    }
   ],
   "source": [
    "model.predict(to_predict)"
   ]
  },
  {
   "cell_type": "markdown",
   "metadata": {},
   "source": [
    "Change SW ti 1"
   ]
  },
  {
   "cell_type": "code",
   "execution_count": 50,
   "metadata": {},
   "outputs": [],
   "source": [
    "to_predict = np.array([1.202, 3, 4442.141, 28760, 27664, 4_557_004, 3_195_503,\n",
    "1976, 12_782, 0, 1, 1, 1]).reshape(1,-1)"
   ]
  },
  {
   "cell_type": "code",
   "execution_count": 51,
   "metadata": {},
   "outputs": [
    {
     "data": {
      "text/plain": [
       "array([205.61652681])"
      ]
     },
     "execution_count": 51,
     "metadata": {},
     "output_type": "execute_result"
    }
   ],
   "source": [
    "model.predict(to_predict)"
   ]
  },
  {
   "cell_type": "code",
   "execution_count": 52,
   "metadata": {},
   "outputs": [],
   "source": [
    "X_train = X_train.drop(['NEW', 'PAX'], axis=1)\n",
    "X_test = X_test.drop(['NEW', 'PAX'], axis=1)"
   ]
  },
  {
   "cell_type": "code",
   "execution_count": 56,
   "metadata": {},
   "outputs": [
    {
     "name": "stdout",
     "output_type": "stream",
     "text": [
      "     n     r2adj          AIC  COUPON  DISTANCE  E_INCOME  E_POP  GATE_Free     HI  SLOT_Free  \\\n",
      "0    1  0.405135  4200.729600   False      True     False  False      False  False      False   \n",
      "1    2  0.570346  4077.437454   False      True     False  False      False  False      False   \n",
      "2    3  0.688723  3955.311141   False      True     False  False      False  False      False   \n",
      "3    4  0.712287  3926.228512   False      True     False  False      False   True      False   \n",
      "4    5  0.726808  3907.429694   False      True     False  False      False   True       True   \n",
      "5    6  0.749890  3874.691826   False      True     False  False       True   True       True   \n",
      "6    7  0.752010  3872.419699   False      True      True  False       True   True       True   \n",
      "7    8  0.754619  3869.357355   False      True     False   True       True   True       True   \n",
      "8    9  0.755916  3868.306717    True      True     False   True       True   True       True   \n",
      "9   10  0.757843  3866.251796    True      True      True   True       True   True       True   \n",
      "10  11  0.757519  3867.730686    True      True      True   True       True   True       True   \n",
      "\n",
      "    SW_Yes  S_INCOME  S_POP  VACATION_Yes  \n",
      "0    False     False  False         False  \n",
      "1     True     False  False         False  \n",
      "2     True     False  False          True  \n",
      "3     True     False  False          True  \n",
      "4     True     False  False          True  \n",
      "5     True     False  False          True  \n",
      "6     True     False  False          True  \n",
      "7     True     False   True          True  \n",
      "8     True     False   True          True  \n",
      "9     True     False   True          True  \n",
      "10    True      True   True          True  \n"
     ]
    }
   ],
   "source": [
    "# Run an exhaustive search.\n",
    "def train_model(variables):\n",
    "    model = LinearRegression()\n",
    "    model.fit(X_train[variables], y_train)\n",
    "    return model\n",
    "\n",
    "def score_model(model, variables):\n",
    "    pred_y = model.predict(X_train[variables])\n",
    "    # we negate as score is optimized to be as low as possible\n",
    "    return -adjusted_r2_score(y_train, pred_y, model)\n",
    "allVariables = X_train.columns\n",
    "results = exhaustive_search(allVariables, train_model, score_model)\n",
    "data = []\n",
    "\n",
    "for result in results:\n",
    "    model_1 = result['model']\n",
    "    variables = result['variables']\n",
    "    AIC = AIC_score(y_train, model_1.predict(X_train[variables]), model_1)\n",
    "    \n",
    "    d = {'n': result['n'], 'r2adj': -result['score'], 'AIC': AIC}\n",
    "    d.update({var: var in result['variables'] for var in allVariables})\n",
    "    data.append(d)\n",
    "    \n",
    "pd.set_option('display.width', 100)\n",
    "print(pd.DataFrame(data, columns=('n', 'r2adj', 'AIC') +tuple(sorted(allVariables))))\n",
    "pd.reset_option('display.width')"
   ]
  },
  {
   "cell_type": "code",
   "execution_count": 57,
   "metadata": {},
   "outputs": [
    {
     "data": {
      "text/html": [
       "<div>\n",
       "<style scoped>\n",
       "    .dataframe tbody tr th:only-of-type {\n",
       "        vertical-align: middle;\n",
       "    }\n",
       "\n",
       "    .dataframe tbody tr th {\n",
       "        vertical-align: top;\n",
       "    }\n",
       "\n",
       "    .dataframe thead th {\n",
       "        text-align: right;\n",
       "    }\n",
       "</style>\n",
       "<table border=\"1\" class=\"dataframe\">\n",
       "  <thead>\n",
       "    <tr style=\"text-align: right;\">\n",
       "      <th></th>\n",
       "      <th>COUPON</th>\n",
       "      <th>HI</th>\n",
       "      <th>S_INCOME</th>\n",
       "      <th>E_INCOME</th>\n",
       "      <th>S_POP</th>\n",
       "      <th>E_POP</th>\n",
       "      <th>DISTANCE</th>\n",
       "      <th>VACATION_Yes</th>\n",
       "      <th>SW_Yes</th>\n",
       "      <th>SLOT_Free</th>\n",
       "      <th>GATE_Free</th>\n",
       "    </tr>\n",
       "  </thead>\n",
       "  <tbody>\n",
       "    <tr>\n",
       "      <th>260</th>\n",
       "      <td>1.29</td>\n",
       "      <td>3152.00</td>\n",
       "      <td>21081.0</td>\n",
       "      <td>32991.0</td>\n",
       "      <td>895123</td>\n",
       "      <td>8621121</td>\n",
       "      <td>613</td>\n",
       "      <td>0</td>\n",
       "      <td>0</td>\n",
       "      <td>0</td>\n",
       "      <td>1</td>\n",
       "    </tr>\n",
       "    <tr>\n",
       "      <th>228</th>\n",
       "      <td>1.00</td>\n",
       "      <td>2850.33</td>\n",
       "      <td>30124.0</td>\n",
       "      <td>32991.0</td>\n",
       "      <td>5787293</td>\n",
       "      <td>8621121</td>\n",
       "      <td>183</td>\n",
       "      <td>0</td>\n",
       "      <td>0</td>\n",
       "      <td>1</td>\n",
       "      <td>0</td>\n",
       "    </tr>\n",
       "    <tr>\n",
       "      <th>31</th>\n",
       "      <td>1.34</td>\n",
       "      <td>2587.89</td>\n",
       "      <td>32991.0</td>\n",
       "      <td>18851.0</td>\n",
       "      <td>8621121</td>\n",
       "      <td>254153</td>\n",
       "      <td>637</td>\n",
       "      <td>0</td>\n",
       "      <td>0</td>\n",
       "      <td>0</td>\n",
       "      <td>1</td>\n",
       "    </tr>\n",
       "    <tr>\n",
       "      <th>583</th>\n",
       "      <td>1.07</td>\n",
       "      <td>3289.86</td>\n",
       "      <td>24502.0</td>\n",
       "      <td>31981.0</td>\n",
       "      <td>125722</td>\n",
       "      <td>4549784</td>\n",
       "      <td>310</td>\n",
       "      <td>0</td>\n",
       "      <td>0</td>\n",
       "      <td>1</td>\n",
       "      <td>1</td>\n",
       "    </tr>\n",
       "    <tr>\n",
       "      <th>600</th>\n",
       "      <td>1.33</td>\n",
       "      <td>3680.60</td>\n",
       "      <td>24706.0</td>\n",
       "      <td>31981.0</td>\n",
       "      <td>9056076</td>\n",
       "      <td>4549784</td>\n",
       "      <td>2300</td>\n",
       "      <td>0</td>\n",
       "      <td>0</td>\n",
       "      <td>0</td>\n",
       "      <td>1</td>\n",
       "    </tr>\n",
       "  </tbody>\n",
       "</table>\n",
       "</div>"
      ],
      "text/plain": [
       "     COUPON       HI  S_INCOME  E_INCOME    S_POP    E_POP  DISTANCE  \\\n",
       "260    1.29  3152.00   21081.0   32991.0   895123  8621121       613   \n",
       "228    1.00  2850.33   30124.0   32991.0  5787293  8621121       183   \n",
       "31     1.34  2587.89   32991.0   18851.0  8621121   254153       637   \n",
       "583    1.07  3289.86   24502.0   31981.0   125722  4549784       310   \n",
       "600    1.33  3680.60   24706.0   31981.0  9056076  4549784      2300   \n",
       "\n",
       "     VACATION_Yes  SW_Yes  SLOT_Free  GATE_Free  \n",
       "260             0       0          0          1  \n",
       "228             0       0          1          0  \n",
       "31              0       0          0          1  \n",
       "583             0       0          1          1  \n",
       "600             0       0          0          1  "
      ]
     },
     "execution_count": 57,
     "metadata": {},
     "output_type": "execute_result"
    }
   ],
   "source": [
    "X_test.head()"
   ]
  },
  {
   "cell_type": "code",
   "execution_count": 58,
   "metadata": {},
   "outputs": [],
   "source": [
    "to_predict = np.array([1.202, 4442.141, 28_760, 27_664, 4_557_004, 3_195_503,\n",
    "                       1976, 0, 0, 1, 1]).reshape(1, -1)"
   ]
  },
  {
   "cell_type": "code",
   "execution_count": 59,
   "metadata": {},
   "outputs": [
    {
     "data": {
      "text/plain": [
       "array([244.12575045])"
      ]
     },
     "execution_count": 59,
     "metadata": {},
     "output_type": "execute_result"
    }
   ],
   "source": [
    "model_1.predict(to_predict)"
   ]
  }
 ],
 "metadata": {
  "kernelspec": {
   "display_name": "Python 3",
   "language": "python",
   "name": "python3"
  },
  "language_info": {
   "codemirror_mode": {
    "name": "ipython",
    "version": 3
   },
   "file_extension": ".py",
   "mimetype": "text/x-python",
   "name": "python",
   "nbconvert_exporter": "python",
   "pygments_lexer": "ipython3",
   "version": "3.7.6"
  }
 },
 "nbformat": 4,
 "nbformat_minor": 4
}
